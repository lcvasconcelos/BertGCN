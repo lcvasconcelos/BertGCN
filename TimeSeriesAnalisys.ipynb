{
  "nbformat": 4,
  "nbformat_minor": 0,
  "metadata": {
    "colab": {
      "provenance": [],
      "authorship_tag": "ABX9TyNpQXBjS6n4KHE8RikajJOF",
      "include_colab_link": true
    },
    "kernelspec": {
      "name": "python3",
      "display_name": "Python 3"
    },
    "language_info": {
      "name": "python"
    }
  },
  "cells": [
    {
      "cell_type": "markdown",
      "metadata": {
        "id": "view-in-github",
        "colab_type": "text"
      },
      "source": [
        "<a href=\"https://colab.research.google.com/github/lcvasconcelos/BertGCN/blob/main/TimeSeriesAnalisys.ipynb\" target=\"_parent\"><img src=\"https://colab.research.google.com/assets/colab-badge.svg\" alt=\"Open In Colab\"/></a>"
      ]
    },
    {
      "cell_type": "markdown",
      "source": [
        "https://towardsdatascience.com/an-end-to-end-project-on-time-series-analysis-and-forecasting-with-python-4835e6bf050b"
      ],
      "metadata": {
        "id": "Hd91QkwlLYJF"
      }
    },
    {
      "cell_type": "code",
      "execution_count": 14,
      "metadata": {
        "id": "kUwEGqkW5fHG"
      },
      "outputs": [],
      "source": [
        "import warnings\n",
        "import itertools\n",
        "import numpy as np\n",
        "import matplotlib.pyplot as plt\n",
        "warnings.filterwarnings(\"ignore\")\n",
        "plt.style.use('fivethirtyeight')\n",
        "import pandas as pd\n",
        "import statsmodels.api as sm\n",
        "import matplotlib\n",
        "matplotlib.rcParams['axes.labelsize'] = 14\n",
        "matplotlib.rcParams['xtick.labelsize'] = 12\n",
        "matplotlib.rcParams['ytick.labelsize'] = 12\n",
        "matplotlib.rcParams['text.color'] = 'k'"
      ]
    },
    {
      "cell_type": "code",
      "source": [
        "df = pd.read_csv(\"/content/sample_data/Superstore.cvs\")"
      ],
      "metadata": {
        "id": "-qTFlcaE5jgQ"
      },
      "execution_count": 15,
      "outputs": []
    },
    {
      "cell_type": "code",
      "source": [
        "df.dtypes"
      ],
      "metadata": {
        "colab": {
          "base_uri": "https://localhost:8080/"
        },
        "id": "AnlCEnBIDhH9",
        "outputId": "ea60fe60-5d80-48c7-f589-49efa6a01e12"
      },
      "execution_count": 16,
      "outputs": [
        {
          "output_type": "execute_result",
          "data": {
            "text/plain": [
              "Row ID             int64\n",
              "Order ID          object\n",
              "Order Date        object\n",
              "Ship Date         object\n",
              "Ship Mode         object\n",
              "Customer ID       object\n",
              "Customer Name     object\n",
              "Segment           object\n",
              "Country           object\n",
              "City              object\n",
              "State             object\n",
              "Postal Code        int64\n",
              "Region            object\n",
              "Product ID        object\n",
              "Category          object\n",
              "Sub-Category      object\n",
              "Product Name      object\n",
              "Sales            float64\n",
              "Quantity           int64\n",
              "Discount         float64\n",
              "Profit           float64\n",
              "dtype: object"
            ]
          },
          "metadata": {},
          "execution_count": 16
        }
      ]
    },
    {
      "cell_type": "code",
      "source": [],
      "metadata": {
        "id": "2wgphBabHwFM"
      },
      "execution_count": null,
      "outputs": []
    },
    {
      "cell_type": "code",
      "source": [
        "furniture = df.loc[df['Category'] == 'Furniture']"
      ],
      "metadata": {
        "id": "fX4cG6T4DsV0"
      },
      "execution_count": 17,
      "outputs": []
    },
    {
      "cell_type": "code",
      "source": [
        "furniture.size"
      ],
      "metadata": {
        "colab": {
          "base_uri": "https://localhost:8080/"
        },
        "id": "TyOy0y45DtF8",
        "outputId": "73f64e66-3989-4834-a57e-9fe22468b61d"
      },
      "execution_count": 18,
      "outputs": [
        {
          "output_type": "execute_result",
          "data": {
            "text/plain": [
              "44541"
            ]
          },
          "metadata": {},
          "execution_count": 18
        }
      ]
    },
    {
      "cell_type": "code",
      "source": [
        "furniture['Order Date'] = pd.to_datetime(furniture['Order Date'])"
      ],
      "metadata": {
        "id": "lxdhwfI0J545"
      },
      "execution_count": 21,
      "outputs": []
    },
    {
      "cell_type": "code",
      "source": [
        "furniture.dtypes"
      ],
      "metadata": {
        "colab": {
          "base_uri": "https://localhost:8080/"
        },
        "id": "WhyylSClKU_5",
        "outputId": "080a4fd7-360c-43a0-e94d-dd11c45dc3ae"
      },
      "execution_count": 22,
      "outputs": [
        {
          "output_type": "execute_result",
          "data": {
            "text/plain": [
              "Row ID                    int64\n",
              "Order ID                 object\n",
              "Order Date       datetime64[ns]\n",
              "Ship Date                object\n",
              "Ship Mode                object\n",
              "Customer ID              object\n",
              "Customer Name            object\n",
              "Segment                  object\n",
              "Country                  object\n",
              "City                     object\n",
              "State                    object\n",
              "Postal Code               int64\n",
              "Region                   object\n",
              "Product ID               object\n",
              "Category                 object\n",
              "Sub-Category             object\n",
              "Product Name             object\n",
              "Sales                   float64\n",
              "Quantity                  int64\n",
              "Discount                float64\n",
              "Profit                  float64\n",
              "dtype: object"
            ]
          },
          "metadata": {},
          "execution_count": 22
        }
      ]
    },
    {
      "cell_type": "code",
      "source": [
        "furniture['Order Date'].min(), furniture['Order Date'].max()"
      ],
      "metadata": {
        "colab": {
          "base_uri": "https://localhost:8080/"
        },
        "id": "N3KF_KGgDvcS",
        "outputId": "7d6e527d-5a69-4f44-9774-0e3ab9c85eed"
      },
      "execution_count": 23,
      "outputs": [
        {
          "output_type": "execute_result",
          "data": {
            "text/plain": [
              "(Timestamp('2014-01-06 00:00:00'), Timestamp('2017-12-30 00:00:00'))"
            ]
          },
          "metadata": {},
          "execution_count": 23
        }
      ]
    },
    {
      "cell_type": "code",
      "source": [
        "cols = ['Row ID', 'Order ID', 'Ship Date', 'Ship Mode', 'Customer ID', 'Customer Name', 'Segment', 'Country', 'City', 'State', 'Postal Code', 'Region', 'Product ID', 'Category', 'Sub-Category', 'Product Name', 'Quantity', 'Discount', 'Profit']\n",
        "furniture.drop(cols, axis=1, inplace=True)\n",
        "furniture = furniture.sort_values('Order Date')\n",
        "furniture.isnull().sum()"
      ],
      "metadata": {
        "colab": {
          "base_uri": "https://localhost:8080/"
        },
        "id": "RtD7apfqD-Ud",
        "outputId": "e54bc3c5-74a4-4c91-92e5-47301664aca4"
      },
      "execution_count": 24,
      "outputs": [
        {
          "output_type": "execute_result",
          "data": {
            "text/plain": [
              "Order Date    0\n",
              "Sales         0\n",
              "dtype: int64"
            ]
          },
          "metadata": {},
          "execution_count": 24
        }
      ]
    },
    {
      "cell_type": "code",
      "source": [
        "furniture = furniture.groupby('Order Date')['Sales'].sum().reset_index()"
      ],
      "metadata": {
        "id": "-fYg_17fEYRW"
      },
      "execution_count": 25,
      "outputs": []
    },
    {
      "cell_type": "code",
      "source": [
        "furniture = furniture.set_index('Order Date')\n",
        "furniture.index"
      ],
      "metadata": {
        "colab": {
          "base_uri": "https://localhost:8080/"
        },
        "id": "7OXW3ZWWEol-",
        "outputId": "d64a4011-1944-482d-f74d-2fabfd1d4247"
      },
      "execution_count": 26,
      "outputs": [
        {
          "output_type": "execute_result",
          "data": {
            "text/plain": [
              "DatetimeIndex(['2014-01-06', '2014-01-07', '2014-01-10', '2014-01-11',\n",
              "               '2014-01-13', '2014-01-14', '2014-01-16', '2014-01-19',\n",
              "               '2014-01-20', '2014-01-21',\n",
              "               ...\n",
              "               '2017-12-18', '2017-12-19', '2017-12-21', '2017-12-22',\n",
              "               '2017-12-23', '2017-12-24', '2017-12-25', '2017-12-28',\n",
              "               '2017-12-29', '2017-12-30'],\n",
              "              dtype='datetime64[ns]', name='Order Date', length=889, freq=None)"
            ]
          },
          "metadata": {},
          "execution_count": 26
        }
      ]
    },
    {
      "cell_type": "code",
      "source": [
        "y = furniture['Sales'].resample('MS').mean()"
      ],
      "metadata": {
        "id": "Occf5CAFE4Ip"
      },
      "execution_count": 27,
      "outputs": []
    },
    {
      "cell_type": "code",
      "source": [
        "y['2017':]"
      ],
      "metadata": {
        "colab": {
          "base_uri": "https://localhost:8080/"
        },
        "id": "1O1cKgDwFLKf",
        "outputId": "e213d341-3f68-421a-d93b-8efe50714b7d"
      },
      "execution_count": 28,
      "outputs": [
        {
          "output_type": "execute_result",
          "data": {
            "text/plain": [
              "Order Date\n",
              "2017-01-01     397.602133\n",
              "2017-02-01     528.179800\n",
              "2017-03-01     544.672240\n",
              "2017-04-01     453.297905\n",
              "2017-05-01     678.302328\n",
              "2017-06-01     826.460291\n",
              "2017-07-01     562.524857\n",
              "2017-08-01     857.881889\n",
              "2017-09-01    1209.508583\n",
              "2017-10-01     875.362728\n",
              "2017-11-01    1277.817759\n",
              "2017-12-01    1256.298672\n",
              "Freq: MS, Name: Sales, dtype: float64"
            ]
          },
          "metadata": {},
          "execution_count": 28
        }
      ]
    },
    {
      "cell_type": "code",
      "source": [
        "y.plot(figsize=(15, 6))\n",
        "plt.show()"
      ],
      "metadata": {
        "colab": {
          "base_uri": "https://localhost:8080/",
          "height": 450
        },
        "id": "MrWAx1iCGxKj",
        "outputId": "fd9414f8-0dde-438b-d869-0a6bd03d4852"
      },
      "execution_count": 29,
      "outputs": [
        {
          "output_type": "display_data",
          "data": {
            "text/plain": [
              "<Figure size 1080x432 with 1 Axes>"
            ],
            "image/png": "[encoded data removed]"
          },
          "metadata": {}
        }
      ]
    },
    {
      "cell_type": "code",
      "source": [],
      "metadata": {
        "id": "yRHsDN9HLLcL"
      },
      "execution_count": null,
      "outputs": []
    }
  ]
}